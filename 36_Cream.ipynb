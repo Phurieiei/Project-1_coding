{
  "nbformat": 4,
  "nbformat_minor": 0,
  "metadata": {
    "colab": {
      "provenance": [],
      "authorship_tag": "ABX9TyNWfoS8NX4cUiKCyDDR+FTP",
      "include_colab_link": true
    },
    "kernelspec": {
      "name": "python3",
      "display_name": "Python 3"
    },
    "language_info": {
      "name": "python"
    }
  },
  "cells": [
    {
      "cell_type": "markdown",
      "metadata": {
        "id": "view-in-github",
        "colab_type": "text"
      },
      "source": [
        "<a href=\"https://colab.research.google.com/github/Phurieiei/Project-1_coding/blob/main/36_Cream.ipynb\" target=\"_parent\"><img src=\"https://colab.research.google.com/assets/colab-badge.svg\" alt=\"Open In Colab\"/></a>"
      ]
    },
    {
      "cell_type": "markdown",
      "source": [
        ".............\n",
        "\n",
        "\n",
        "\n",
        "\n",
        "\n",
        "\n",
        "\n",
        "\n",
        "\n",
        "\n",
        "\n",
        "\n",
        "\n",
        "\n",
        "\n",
        "\n",
        "\n",
        "\n",
        "\n",
        "\n",
        "\n",
        "\n",
        "\n",
        "\n",
        "\n",
        "\n",
        "\n",
        "\n",
        "\n",
        "\n",
        "\n",
        "\n",
        "\n",
        "\n",
        "\n",
        "\n",
        "\n",
        "\n",
        "\n",
        "\n",
        "\n",
        "\n",
        "\n",
        "\n",
        "\n",
        "\n",
        "\n",
        "\n",
        "\n",
        "\n",
        "\n",
        "\n",
        "\n",
        "\n",
        "\n",
        "\n",
        "\n",
        "\n",
        "\n",
        "\n",
        "\n",
        "\n",
        "\n",
        "\n",
        "\n",
        "\n",
        "\n",
        "\n",
        "\n",
        "\n",
        "\n",
        "\n",
        "\n",
        "\n",
        "\n",
        "\n",
        "\n",
        "\n",
        "\n",
        "\n",
        "\n",
        "\n",
        "\n",
        "\n",
        "\n",
        "\n",
        "\n",
        "\n",
        "\n",
        "\n",
        "\n",
        "\n",
        "\n",
        "\n",
        "\n",
        "\n",
        "\n",
        "\n",
        "\n",
        "\n",
        "\n",
        "\n",
        "\n",
        "\n",
        "\n",
        "\n",
        "\n",
        "# เลขที่ 36 ครีม ภูริชญา สร้อยทอง\n",
        "No. 36 Phurichaya Soithong"
      ],
      "metadata": {
        "id": "qY7pAGnbeP8A"
      }
    },
    {
      "cell_type": "markdown",
      "source": [
        "# **20 May 2024**\n",
        "\n",
        "เรียนรู้การใช้คำสั่ง Print เบื้องต้น และได้ทดลอง Print คำสั่งตามโจทย์"
      ],
      "metadata": {
        "id": "HQfb_7sAOxjX"
      }
    },
    {
      "cell_type": "code",
      "source": [
        "print(\"Hello krub Im Phurimars\")"
      ],
      "metadata": {
        "colab": {
          "base_uri": "https://localhost:8080/"
        },
        "id": "9aGPUhQxCDVK",
        "outputId": "8904a769-39fd-44d7-c2de-adbf673f00a7"
      },
      "execution_count": null,
      "outputs": [
        {
          "output_type": "stream",
          "name": "stdout",
          "text": [
            "Hello krub Im Phurimars\n"
          ]
        }
      ]
    },
    {
      "cell_type": "code",
      "source": [
        "birthday = 25\n",
        "print(\"ฉันเกิดวันที่ \",birthday, \"ธันวาคม\")"
      ],
      "metadata": {
        "colab": {
          "base_uri": "https://localhost:8080/"
        },
        "id": "9yKZznxUHe5C",
        "outputId": "95a28957-2279-4c2b-cdbe-b1d10c404505"
      },
      "execution_count": null,
      "outputs": [
        {
          "output_type": "stream",
          "name": "stdout",
          "text": [
            "ฉันเกิดวันที่  25 ธันวาคม\n"
          ]
        }
      ]
    },
    {
      "cell_type": "markdown",
      "source": [
        "# **29 May 2024**\n",
        "\n",
        "- เรียนรู้การใช้คำสั่งแยกประเภทของข้อมูล โดยใช้คำสั่ง type\n",
        "- การตั้งชื่อตัวแปรควรจะเป็นตัวอักษรภาษาอังกฤษเท่านั้น และไม่สามารถตั้งชื่อโดยใช้ตัวเลข เว้นวรรค หรือภาษาไทยได้"
      ],
      "metadata": {
        "id": "wsPfFrtSZO6O"
      }
    },
    {
      "cell_type": "code",
      "source": [
        "a = 2\n",
        "b = 1.5\n",
        "c = \"Cream\"\n",
        "\n",
        "type(c)\n",
        "\n",
        "print(\"ตัวแปรที่ฉันคิด คือ hobby\")"
      ],
      "metadata": {
        "colab": {
          "base_uri": "https://localhost:8080/"
        },
        "id": "po9jSE3DZXF-",
        "outputId": "e010fbd4-5cf5-4352-bcd1-277e3a2738b0"
      },
      "execution_count": null,
      "outputs": [
        {
          "output_type": "stream",
          "name": "stdout",
          "text": [
            "ตัวแปรที่ฉันคิด คือ hobby\n"
          ]
        }
      ]
    },
    {
      "cell_type": "code",
      "source": [
        "numeric1 = 5\n",
        "print(numeric1)\n",
        "type(numeric1)"
      ],
      "metadata": {
        "colab": {
          "base_uri": "https://localhost:8080/"
        },
        "id": "pIds9MpzkUgx",
        "outputId": "3ee821c4-b0cf-4ab1-f970-1948a4595f34"
      },
      "execution_count": null,
      "outputs": [
        {
          "output_type": "stream",
          "name": "stdout",
          "text": [
            "5\n"
          ]
        },
        {
          "output_type": "execute_result",
          "data": {
            "text/plain": [
              "int"
            ]
          },
          "metadata": {},
          "execution_count": 4
        }
      ]
    },
    {
      "cell_type": "markdown",
      "source": [
        "# **5 June 2024**\n",
        "\n",
        "\n",
        "\n",
        "*   index เป็นดัชนีแสดงค่าตำแหน่งของตัวอักษร โดยนับตัวอักษรแรกด้วย 0 และนับถอยหลังจากตัวอักษรสุดท้ายเป็น -1\n",
        "\n",
        "**input** - การเขียนโค้ดที่โจทย์มอบให้ โดยมี string1 และกำหนดให้ประมวลผล index ของคำว่า Python\n",
        "\n",
        "**process** - การรันโค้ด\n",
        "\n",
        "**output** - การแสดงผล โดยแสดงผลเป็นตัวอักษร P เป็นตัวอักษรที่ 0\n",
        "\n"
      ],
      "metadata": {
        "id": "acF_-dWSYJJP"
      }
    },
    {
      "cell_type": "code",
      "source": [
        "string1 = \"Python\"\n",
        "print(string1[0])"
      ],
      "metadata": {
        "colab": {
          "base_uri": "https://localhost:8080/"
        },
        "id": "mmAvEwc2YfOe",
        "outputId": "c79f2ff4-f9e9-4bf4-c614-be15b92a8b61"
      },
      "execution_count": null,
      "outputs": [
        {
          "output_type": "stream",
          "name": "stdout",
          "text": [
            "P\n"
          ]
        }
      ]
    },
    {
      "cell_type": "markdown",
      "source": [
        "# **26 June 2024**"
      ],
      "metadata": {
        "id": "1Sz9zO9jskrG"
      }
    },
    {
      "cell_type": "code",
      "source": [
        "name=input (\"พิมพ์ชื่อครับผม\")\n",
        "print(\"เราชื่อ\n",
        "\", name)"
      ],
      "metadata": {
        "colab": {
          "base_uri": "https://localhost:8080/"
        },
        "id": "zsvO-LJ6v0l3",
        "outputId": "6edf3ce3-e18d-4666-8cc1-c2c19122cf20"
      },
      "execution_count": null,
      "outputs": [
        {
          "output_type": "stream",
          "name": "stdout",
          "text": [
            "พิมพ์ชื่อครับผมmars\n",
            "เราชื่อ mars\n"
          ]
        }
      ]
    },
    {
      "cell_type": "code",
      "source": [
        "side = int( input( \" ความยาวด้าน \"))\n",
        "area = side * side\n",
        "print(\"พื้นที่สี่เหลี่ยม เท่ากับ \" , area, \" ตารางเซนติเมตร\")"
      ],
      "metadata": {
        "id": "0RN5GLKazSdX",
        "colab": {
          "base_uri": "https://localhost:8080/"
        },
        "outputId": "e84bdd34-566a-4cab-dfb1-665b5680ef07"
      },
      "execution_count": null,
      "outputs": [
        {
          "output_type": "stream",
          "name": "stdout",
          "text": [
            " ความยาวด้าน 6\n",
            "พื้นที่สี่เหลี่ยม เท่ากับ  36  ตารางเซนติเมตร\n"
          ]
        }
      ]
    },
    {
      "cell_type": "markdown",
      "source": [
        "# **1 July 2024**"
      ],
      "metadata": {
        "id": "M7XOeUAtPQTH"
      }
    },
    {
      "cell_type": "code",
      "source": [
        "wide = int( input( \"ค่าด้านกว้าง ( เซนติเมตร ) คือ\"))\n",
        "long = int ( input( \"ค่าด้านยาว (เซนติเมตร ) คือ\"))\n",
        "area = wide * long\n",
        "print(\"พื้นที่สี่เหลี่ยมผืนผ้า เท่ากับ\",area, \"ตารางเซนติเมตร\")"
      ],
      "metadata": {
        "colab": {
          "base_uri": "https://localhost:8080/"
        },
        "id": "gJ5J3FK4ProG",
        "outputId": "1e2bd9be-357d-4389-d7d5-d78825e77153"
      },
      "execution_count": null,
      "outputs": [
        {
          "output_type": "stream",
          "name": "stdout",
          "text": [
            "ค่าด้านกว้าง ( เซนติเมตร ) คือ4\n",
            "ค่าด้านยาว (เซนติเมตร ) คือ7\n",
            "พื้นที่สี่เหลี่ยมผืนผ้า เท่ากับ 28 ตารางเซนติเมตร\n"
          ]
        }
      ]
    },
    {
      "cell_type": "code",
      "source": [
        "s = int(input(\"ระยะทาง (เมตร) คือ\"))\n",
        "t = int(input(\"เวลา (วินาที) คือ\"))\n",
        "v = s / t\n",
        "print(\"ความเร็วเท่ากับ\",v, \"m/s\")"
      ],
      "metadata": {
        "colab": {
          "base_uri": "https://localhost:8080/"
        },
        "id": "ZAEo7qnUUKhe",
        "outputId": "e0422d36-ae10-42d7-a3f5-480bf01167d4"
      },
      "execution_count": null,
      "outputs": [
        {
          "output_type": "stream",
          "name": "stdout",
          "text": [
            "ระยะทาง (เมตร) คือ5\n",
            "เวลา (วินาที) คือ20\n",
            "ความเร็วเท่ากับ 0.25 m/s\n"
          ]
        }
      ]
    },
    {
      "cell_type": "code",
      "source": [
        "print(\" โปรแกรมคำนวณค่า BMI \")\n",
        "name = input(\"กรุณากรอกชื่อครับ\")\n",
        "print (\" สวัสดีครับ คุณ \" ,name,)\n",
        "weight = float(input(\"น้ำหนัก (กิโลกรัม) คือ \"))\n",
        "height = float(input(\"ส่วนสูง (เซนติเมตร) คือ \"))\n",
        "BMI = weight / height**2\n",
        "print (\"\\nBMI เท่ากับ \" , BMI ,)"
      ],
      "metadata": {
        "colab": {
          "base_uri": "https://localhost:8080/",
          "height": 221
        },
        "id": "d3CxocKFXfrF",
        "outputId": "e6b87559-a478-4874-f61d-e653334c6f2a"
      },
      "execution_count": null,
      "outputs": [
        {
          "output_type": "error",
          "ename": "TypeError",
          "evalue": "'tuple' object is not callable",
          "traceback": [
            "\u001b[0;31m---------------------------------------------------------------------------\u001b[0m",
            "\u001b[0;31mTypeError\u001b[0m                                 Traceback (most recent call last)",
            "\u001b[0;32m<ipython-input-21-3d5e65ba3352>\u001b[0m in \u001b[0;36m<cell line: 1>\u001b[0;34m()\u001b[0m\n\u001b[0;32m----> 1\u001b[0;31m \u001b[0mprint\u001b[0m\u001b[0;34m(\u001b[0m\u001b[0;34m\" โปรแกรมคำนวณค่า BMI \"\u001b[0m\u001b[0;34m)\u001b[0m\u001b[0;34m\u001b[0m\u001b[0;34m\u001b[0m\u001b[0m\n\u001b[0m\u001b[1;32m      2\u001b[0m \u001b[0mname\u001b[0m \u001b[0;34m=\u001b[0m \u001b[0minput\u001b[0m\u001b[0;34m(\u001b[0m\u001b[0;34m\"กรุณากรอกชื่อครับ\"\u001b[0m\u001b[0;34m)\u001b[0m\u001b[0;34m\u001b[0m\u001b[0;34m\u001b[0m\u001b[0m\n\u001b[1;32m      3\u001b[0m \u001b[0mprint\u001b[0m \u001b[0;34m(\u001b[0m\u001b[0;34m\" สวัสดีครับ คุณ \"\u001b[0m \u001b[0;34m,\u001b[0m\u001b[0mname\u001b[0m\u001b[0;34m,\u001b[0m\u001b[0;34m)\u001b[0m\u001b[0;34m\u001b[0m\u001b[0;34m\u001b[0m\u001b[0m\n\u001b[1;32m      4\u001b[0m \u001b[0mweight\u001b[0m \u001b[0;34m=\u001b[0m \u001b[0mfloat\u001b[0m\u001b[0;34m(\u001b[0m\u001b[0minput\u001b[0m\u001b[0;34m(\u001b[0m\u001b[0;34m\"น้ำหนัก (กิโลกรัม) คือ \"\u001b[0m\u001b[0;34m)\u001b[0m\u001b[0;34m)\u001b[0m\u001b[0;34m\u001b[0m\u001b[0;34m\u001b[0m\u001b[0m\n\u001b[1;32m      5\u001b[0m \u001b[0mheight\u001b[0m \u001b[0;34m=\u001b[0m \u001b[0mfloat\u001b[0m\u001b[0;34m(\u001b[0m\u001b[0minput\u001b[0m\u001b[0;34m(\u001b[0m\u001b[0;34m\"ส่วนสูง (เซนติเมตร) คือ \"\u001b[0m\u001b[0;34m)\u001b[0m\u001b[0;34m)\u001b[0m\u001b[0;34m\u001b[0m\u001b[0;34m\u001b[0m\u001b[0m\n",
            "\u001b[0;31mTypeError\u001b[0m: 'tuple' object is not callable"
          ]
        }
      ]
    }
  ]
}