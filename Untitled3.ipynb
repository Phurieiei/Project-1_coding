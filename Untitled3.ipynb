{
  "nbformat": 4,
  "nbformat_minor": 0,
  "metadata": {
    "colab": {
      "provenance": [],
      "authorship_tag": "ABX9TyPL4KQiCPTYU4Zlfu5/nrVx",
      "include_colab_link": true
    },
    "kernelspec": {
      "name": "python3",
      "display_name": "Python 3"
    },
    "language_info": {
      "name": "python"
    }
  },
  "cells": [
    {
      "cell_type": "markdown",
      "metadata": {
        "id": "view-in-github",
        "colab_type": "text"
      },
      "source": [
        "<a href=\"https://colab.research.google.com/github/Phurieiei/Project-1_coding/blob/main/Untitled3.ipynb\" target=\"_parent\"><img src=\"https://colab.research.google.com/assets/colab-badge.svg\" alt=\"Open In Colab\"/></a>"
      ]
    },
    {
      "cell_type": "code",
      "execution_count": 4,
      "metadata": {
        "colab": {
          "base_uri": "https://localhost:8080/"
        },
        "id": "8LfwFXBJp4uq",
        "outputId": "0ac6fb86-eb0d-4950-e846-8577c8a9f09e"
      },
      "outputs": [
        {
          "output_type": "stream",
          "name": "stdout",
          "text": [
            "the area of trapezoid is 45.00\n"
          ]
        }
      ],
      "source": [
        "def trapezoid_area (a,b,h) :\n",
        "    trapezoid_area = 1/2*h*(a+b)\n",
        "    print(\"the area of trapezoid is \" '%.2f'%trapezoid_area)\n",
        "\n",
        "\n",
        "trapezoid_area (3,6,10)"
      ]
    }
  ]
}