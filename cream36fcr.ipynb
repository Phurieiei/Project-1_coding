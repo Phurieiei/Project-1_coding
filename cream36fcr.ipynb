{
  "nbformat": 4,
  "nbformat_minor": 0,
  "metadata": {
    "colab": {
      "provenance": [],
      "authorship_tag": "ABX9TyPD4L2BDJTPaPT34SGJYX2P",
      "include_colab_link": true
    },
    "kernelspec": {
      "name": "python3",
      "display_name": "Python 3"
    },
    "language_info": {
      "name": "python"
    }
  },
  "cells": [
    {
      "cell_type": "markdown",
      "metadata": {
        "id": "view-in-github",
        "colab_type": "text"
      },
      "source": [
        "<a href=\"https://colab.research.google.com/github/Phurieiei/Project-1_coding/blob/main/cream36fcr.ipynb\" target=\"_parent\"><img src=\"https://colab.research.google.com/assets/colab-badge.svg\" alt=\"Open In Colab\"/></a>"
      ]
    },
    {
      "cell_type": "markdown",
      "source": [
        "โปรแกรมคำนวณอัตราการสิ้นเปลืองน้ำมัน"
      ],
      "metadata": {
        "id": "0RTdBoH_S2j9"
      }
    },
    {
      "cell_type": "code",
      "source": [
        "def fuel_onsumprate(c, d):\n",
        "    return (c * 100) / d\n",
        "\n",
        "print(\"O=Oil and H=Hybrid\")\n",
        "print(\"กรอกชนิดของรถยนต์ (O,H)\")\n",
        "_input = input()\n",
        "\n",
        "if _input == \"O\":\n",
        "    cartype = \"O\"\n",
        "elif _input == \"H\":\n",
        "    cartype = \"H\"\n",
        "else:\n",
        "    print(\"กรุณากรอกใหม่\")\n",
        "\n",
        "d = float(input(\"กรอก ระยะทางที่เดินทาง: \"))\n",
        "c = float(input(\"กรอก ปริมาณน้ำมันที่ใช้: \"))\n",
        "\n",
        "result = fuel_onsumprate(c, d)\n",
        "\n",
        "print(f\"มีอัตราการสิ้นเปลืองน้ำมัน: {result} ลิตร/100กิโลเมตร\")"
      ],
      "metadata": {
        "colab": {
          "base_uri": "https://localhost:8080/"
        },
        "id": "VtaDWVL0S_18",
        "outputId": "7cf71830-a4bf-4bbe-a3ab-a2d7c31cc0b5"
      },
      "execution_count": null,
      "outputs": [
        {
          "output_type": "stream",
          "name": "stdout",
          "text": [
            "O=Oil and H=Hybrid\n",
            "กรอกชนิดของรถยนต์ (O,H)\n",
            "O\n",
            "กรอก ระยะทางที่เดินทาง: 500\n",
            "กรอก ปริมาณน้ำมันที่ใช้: 40\n",
            "มีอัตราการสิ้นเปลืองน้ำมัน: 8.0 ลิตร/100กิโลเมตร\n"
          ]
        }
      ]
    }
  ]
}